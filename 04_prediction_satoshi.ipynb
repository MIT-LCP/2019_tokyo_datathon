{
 "cells": [
  {
   "cell_type": "markdown",
   "metadata": {
    "colab_type": "text",
    "id": "T3wdKZCPklNq"
   },
   "source": [
    "# eICU Collaborative Research Database\n",
    "\n",
    "# Notebook 4: Prediction\n",
    "\n",
    "This notebook explores how a decision trees can be trained to predict in-hospital mortality of patients.\n",
    "\n",
    "このノートブックでは、decision treeを用いて院内死亡を予測するモデルを作ります。"
   ]
  },
  {
   "cell_type": "markdown",
   "metadata": {
    "colab_type": "text",
    "id": "rG3HrM7GkwCH"
   },
   "source": [
    "## Load libraries and connect to the database"
   ]
  },
  {
   "cell_type": "code",
   "execution_count": 0,
   "metadata": {
    "colab": {},
    "colab_type": "code",
    "id": "s-MoFA6NkkbZ"
   },
   "outputs": [],
   "source": [
    "# Import libraries\n",
    "import os\n",
    "import numpy as np\n",
    "import pandas as pd\n",
    "import matplotlib.pyplot as plt\n",
    "\n",
    "# model building\n",
    "from sklearn import ensemble, impute, metrics, preprocessing, tree\n",
    "from sklearn.model_selection import cross_val_score, train_test_split\n",
    "from sklearn.pipeline import Pipeline\n",
    "\n",
    "# Make pandas dataframes prettier\n",
    "from IPython.display import display, HTML, Image\n",
    "plt.rcParams.update({'font.size': 20})\n",
    "%matplotlib inline\n",
    "plt.style.use('ggplot')\n",
    "\n",
    "# Access data using Google BigQuery.\n",
    "from google.colab import auth\n",
    "from google.cloud import bigquery"
   ]
  },
  {
   "cell_type": "code",
   "execution_count": 0,
   "metadata": {
    "colab": {},
    "colab_type": "code",
    "id": "jyBV_Q9DkyD3"
   },
   "outputs": [],
   "source": [
    "# authenticate\n",
    "auth.authenticate_user()"
   ]
  },
  {
   "cell_type": "code",
   "execution_count": 0,
   "metadata": {
    "colab": {},
    "colab_type": "code",
    "id": "cF1udJKhkzYq"
   },
   "outputs": [],
   "source": [
    "# Set up environment variables\n",
    "project_id='datathonjapan2019'\n",
    "os.environ[\"GOOGLE_CLOUD_PROJECT\"]=project_id"
   ]
  },
  {
   "cell_type": "markdown",
   "metadata": {
    "colab_type": "text",
    "id": "xGurBAQIUDTt"
   },
   "source": [
    "To make our lives easier, we'll also install and import a set of helper functions from the `datathon2` package. We will be using the following functions from the package:\n",
    "\n",
    "`datathon2`パッケージの中にある以下のfunctionを使いましょう。\n",
    "- `plot_model_pred_2d`: to visualize our data, helping to display a class split assigned by a tree vs the true class.\n",
    "\n",
    "（作ったtreeと、それによるクラス分けを図示してくれるfunctionです）\n",
    "- `run_query()`: to run an SQL query against our BigQuery database and assign the results to a dataframe. \n",
    "\n",
    "（BigQuery上でSQLを行い、データを抽出するためのfunctionです）\n"
   ]
  },
  {
   "cell_type": "code",
   "execution_count": 0,
   "metadata": {
    "colab": {},
    "colab_type": "code",
    "id": "GDEewAlvk0oT"
   },
   "outputs": [],
   "source": [
    "!pip install datathon2"
   ]
  },
  {
   "cell_type": "code",
   "execution_count": 0,
   "metadata": {
    "colab": {},
    "colab_type": "code",
    "id": "JM6O5GPAUI89"
   },
   "outputs": [],
   "source": [
    "import datathon2 as dtn\n",
    "import pydotplus\n",
    "from tableone import TableOne"
   ]
  },
  {
   "cell_type": "markdown",
   "metadata": {
    "colab_type": "text",
    "id": "hq_09Hh-y17k"
   },
   "source": [
    "In this notebook we'll be looking at tree models, so we'll now install a package for visualizing these models."
   ]
  },
  {
   "cell_type": "code",
   "execution_count": 0,
   "metadata": {
    "colab": {},
    "colab_type": "code",
    "id": "jBMOwgwszGOw"
   },
   "outputs": [],
   "source": [
    "!apt-get install graphviz -y"
   ]
  },
  {
   "cell_type": "markdown",
   "metadata": {
    "colab_type": "text",
    "id": "LgcRCqxCk3HC"
   },
   "source": [
    "## Load the patient cohort\n",
    "\n",
    "Let's extract a cohort of patients admitted to the ICU from the emergency department.  We link demographics data from the `patient` table to severity of illness score data in the `apachepatientresult` table. We exclude readmissions and neurological patients to help create a population suitable for our demonstration.\n",
    "\n",
    "`patient`テーブルから患者背景を、`apachepatientresult`テーブルから重症度に関する情報を抽出し、一つにまとめます。"
   ]
  },
  {
   "cell_type": "code",
   "execution_count": 0,
   "metadata": {
    "colab": {},
    "colab_type": "code",
    "id": "ReCl7-aek1-k"
   },
   "outputs": [],
   "source": [
    "# Link the patient, apachepatientresult, and apacheapsvar tables on patientunitstayid\n",
    "# using an inner join.\n",
    "query = \"\"\"\n",
    "SELECT p.unitadmitsource, p.gender, p.age, p.unittype, p.unitstaytype, \n",
    "    a.actualhospitalmortality, a.acutePhysiologyScore, a.apacheScore\n",
    "FROM `physionet-data.eicu_crd_demo.patient` p\n",
    "INNER JOIN `physionet-data.eicu_crd_demo.apachepatientresult` a\n",
    "ON p.patientunitstayid = a.patientunitstayid\n",
    "WHERE a.apacheversion LIKE 'IVa'\n",
    "AND LOWER(p.unitadmitsource) LIKE \"%emergency%\"\n",
    "AND LOWER(p.unitstaytype) LIKE \"admit%\"\n",
    "AND LOWER(p.unittype) NOT LIKE \"%neuro%\";\n",
    "\"\"\"\n",
    "\n",
    "cohort = dtn.run_query(query,project_id)"
   ]
  },
  {
   "cell_type": "code",
   "execution_count": 0,
   "metadata": {
    "colab": {},
    "colab_type": "code",
    "id": "yxLctVBpk9sO"
   },
   "outputs": [],
   "source": [
    "cohort.head()"
   ]
  },
  {
   "cell_type": "markdown",
   "metadata": {
    "colab_type": "text",
    "id": "NPlwRV2buYb1"
   },
   "source": [
    "## Preparing the data for analysis\n",
    "\n",
    "Before continuing, we want to review our data, paying attention to factors such as:\n",
    "- data types (for example, are values recorded as characters or numerical values?) （データの型）\n",
    "- missing data（データの欠落）\n",
    "- distribution of values（データの分布）"
   ]
  },
  {
   "cell_type": "code",
   "execution_count": 0,
   "metadata": {
    "colab": {},
    "colab_type": "code",
    "id": "v3OJ4LDvueKu"
   },
   "outputs": [],
   "source": [
    "# dataset info\n",
    "print(cohort.info())"
   ]
  },
  {
   "cell_type": "code",
   "execution_count": 0,
   "metadata": {
    "colab": {},
    "colab_type": "code",
    "id": "s4wQ6o_RvLph"
   },
   "outputs": [],
   "source": [
    "# Encode the categorical data\n",
    "encoder = preprocessing.LabelEncoder()\n",
    "cohort['gender_code'] = encoder.fit_transform(cohort['gender'])\n",
    "cohort['actualhospitalmortality_code'] = encoder.fit_transform(cohort['actualhospitalmortality'])\n"
   ]
  },
  {
   "cell_type": "code",
   "execution_count": 0,
   "metadata": {
    "colab": {},
    "colab_type": "code",
    "id": "4ogi_ns-ylnP"
   },
   "outputs": [],
   "source": [
    "# Handle the deidentified ages\n",
    "cohort['age'] = pd.to_numeric(cohort['age'], downcast='integer', errors='coerce')\n",
    "cohort['age'] = cohort['age'].fillna(value=91.5)"
   ]
  },
  {
   "cell_type": "code",
   "execution_count": 0,
   "metadata": {
    "colab": {},
    "colab_type": "code",
    "id": "77M0QJQ5wcPQ"
   },
   "outputs": [],
   "source": [
    "# Preview the encoded data\n",
    "cohort[['gender','gender_code']].head()"
   ]
  },
  {
   "cell_type": "code",
   "execution_count": 0,
   "metadata": {
    "colab": {},
    "colab_type": "code",
    "id": "GqvwTNPN3KZz"
   },
   "outputs": [],
   "source": [
    "# Check the outcome variable\n",
    "cohort['actualhospitalmortality_code'].unique()"
   ]
  },
  {
   "cell_type": "code",
   "execution_count": 0,
   "metadata": {
    "colab": {},
    "colab_type": "code",
    "id": "gIIsthy1WK3i"
   },
   "outputs": [],
   "source": [
    "# View summary statistics\n",
    "pd.set_option('display.height', 500)\n",
    "pd.set_option('display.max_rows', 500)\n",
    "TableOne(cohort,groupby='actualhospitalmortality')"
   ]
  },
  {
   "cell_type": "markdown",
   "metadata": {
    "colab_type": "text",
    "id": "IGtKlTG1gvRf"
   },
   "source": [
    "From these summary statistics, we can see that the average age is higher in the group of patients who do not survive. What other differences do you see?\n",
    "\n",
    "生存群・死亡群でどのような差を認めますか？"
   ]
  },
  {
   "cell_type": "markdown",
   "metadata": {
    "colab_type": "text",
    "id": "ze7y5J4Ioz8u"
   },
   "source": [
    "## Creating our train and test sets\n",
    "\n",
    "We only focus on two variables for our analysis, age and acute physiology score. Limiting ourselves to two variables will make it easier to visualize our models.\n",
    "\n",
    "今回は、年齢と重症度スコアの二つに注目してモデルを作成します。抽出したデータを、トレーニングセット（モデルを作るためのデータセット）とテストセット（モデルのパフォーマンスを測るためのデータセット）に分けて行います。"
   ]
  },
  {
   "cell_type": "code",
   "execution_count": 0,
   "metadata": {
    "colab": {},
    "colab_type": "code",
    "id": "i5zXkn_AlDJW"
   },
   "outputs": [],
   "source": [
    "features = ['age','acutePhysiologyScore']\n",
    "outcome = 'actualhospitalmortality_code'\n",
    "\n",
    "X = cohort[features]\n",
    "y = cohort[outcome]"
   ]
  },
  {
   "cell_type": "code",
   "execution_count": 0,
   "metadata": {
    "colab": {},
    "colab_type": "code",
    "id": "IHhIgDUwocmA"
   },
   "outputs": [],
   "source": [
    "X_train, X_test, y_train, y_test = train_test_split(X, y, test_size=0.2, random_state=10)"
   ]
  },
  {
   "cell_type": "code",
   "execution_count": 0,
   "metadata": {
    "colab": {},
    "colab_type": "code",
    "id": "NvQWkuY6nkZ8"
   },
   "outputs": [],
   "source": [
    "# Review the number of cases in each set\n",
    "print(\"Train data: {}\".format(len(X_train)))\n",
    "print(\"Test data: {}\".format(len(X_test)))"
   ]
  },
  {
   "cell_type": "markdown",
   "metadata": {
    "colab_type": "text",
    "id": "b2waK5qBqanC"
   },
   "source": [
    "## Decision trees\n",
    "\n",
    "Let's build the simplest tree model we can think of: a classification tree with only one split. Decision trees of this form are commonly referred to under the umbrella term Classification and Regression Trees (CART) [1]. \n",
    "\n",
    "Treeによるモデルの作成をCARTと総称し、今回は生存・死亡という2つのアウトカムへの分類（classification）を目的としたdesicion treeを用います。\n",
    "\n",
    "While we will only be looking at classification here, regression isn't too different. After grouping the data (which is essentially what a decision tree does), classification involves assigning all members of the group to the majority class of that group during training. Regression is the same, except you would assign the average value, not the majority.\n",
    "\n",
    "クラス分けを主とするdesicion treeでは、あるルールで分け（split）グループ化した後、その多数が属するクラスへとそのグループを割り当てます。連続変数をアウトカムとするregression treeも、平均値を用いること以外は基本的に同じです。\n",
    "\n",
    "In the case of a decision tree with one split, often called a \"stump\", the model will partition the data into two groups, and assign classes for those two groups based on majority vote. There are many parameters available for the DecisionTreeClassifier class; by specifying max_depth=1 we will build a decision tree with only one split - i.e. of depth 1.\n",
    "\n",
    "一回のみsplitした場合（stump）、データは二群に分けられ、それぞれの群は多数が属するクラスへと割り当てられます（モデルを使った予測）。以下のように`max_depth=1`と指定することで、一回のみのsplitとなります。\n",
    "\n",
    "[1] L. Breiman, J. Friedman, R. Olshen, and C. Stone. Classification and Regression Trees. Wadsworth, Belmont, CA, 1984."
   ]
  },
  {
   "cell_type": "code",
   "execution_count": 0,
   "metadata": {
    "colab": {},
    "colab_type": "code",
    "id": "RlG3N3OYBqAm"
   },
   "outputs": [],
   "source": [
    "# specify max_depth=1 so we train a stump, i.e. a tree with only 1 split\n",
    "mdl = tree.DecisionTreeClassifier(max_depth=1)\n",
    "\n",
    "# fit the model to the data - trying to predict y from X\n",
    "mdl = mdl.fit(X_train,y_train)"
   ]
  },
  {
   "cell_type": "markdown",
   "metadata": {
    "colab_type": "text",
    "id": "8RlioUw8B_0O"
   },
   "source": [
    "Our model is so simple that we can look at the full decision tree."
   ]
  },
  {
   "cell_type": "code",
   "execution_count": 0,
   "metadata": {
    "colab": {},
    "colab_type": "code",
    "id": "G2t9Nz8pBqEb"
   },
   "outputs": [],
   "source": [
    "graph = dtn.create_graph(mdl,feature_names=features)\n",
    "Image(graph.create_png())"
   ]
  },
  {
   "cell_type": "markdown",
   "metadata": {
    "colab_type": "text",
    "id": "E-iPwWWKCGY9"
   },
   "source": [
    "Here we see three nodes: a node at the top, a node in the lower left, and a node in the lower right.\n",
    "\n",
    "図が今回のdecision treeの概要です。三つのnode（四角に囲まれた部分）に注目していきます。\n",
    "\n",
    "The top node is the root of the tree: it contains all the data. Let's read this node bottom to top:\n",
    "\n",
    "まず一番上にあるnodeは、全てのデータを含んでいます。\n",
    "- `value = [384, 44]`:  Current class balance. There are 384 observations of class 0 and 44 observations of class 1.（実際のクラス：生存 or 死亡）\n",
    "- `samples = 428`:  Number of samples assessed at this node.（サンプル合計）\n",
    "- `gini = 0.184`: Gini impurity, a measure of \"impurity\". The higher the value, the bigger the mix of classes. A 50/50 split of two classes would result in an index of 0.5.（\"Gini\"は、\"impurity\"（不純・混入）の指標です。Gini impurityが低いということは、クラス分けが成功していることを意味します。クラスが半々の場合、Giniは0.5となります）\n",
    "- `acutePhysiologyScore <=78.5`: Decision rule learned by the node. In this case, patients with a score of <= 78.5 are moved into the left node and >78.5 to the right. （Splitのルールです。今回は重症度スコアが78.5以下であれば左のnodeへ分けられます）"
   ]
  },
  {
   "cell_type": "markdown",
   "metadata": {
    "colab_type": "text",
    "id": "KS0UcZqUeJKz"
   },
   "source": [
    "The gini impurity is actually used by the algorithm to determine a split. The model evaluates every feature (in our case, age and score) at every possible split (46, 47, 48..) to find the point with the lowest gini impurity in two resulting nodes.\n",
    "\n",
    "Decision treeではGiniを指標にsplitのアルゴリズムが決定されます。すなわち、split後の二つのGini impurityが最も低くなるように、モデルの予測因子（年齢と重症度スコア）とそのカットオフポイントが選ばれます。\n",
    "\n",
    "The approach is referred to as \"greedy\" because we are choosing the optimal split given our current state. Let's take a closer look at our decision boundary.\n",
    "\n",
    "このようなsplitの選択方法を\"greedy\"と呼びます。"
   ]
  },
  {
   "cell_type": "code",
   "execution_count": 0,
   "metadata": {
    "colab": {},
    "colab_type": "code",
    "id": "uXl22sNTtpHa"
   },
   "outputs": [],
   "source": [
    "# look at the regions in a 2d plot\n",
    "# based on scikit-learn tutorial plot_iris.html\n",
    "plt.figure(figsize=[10,8])\n",
    "dtn.plot_model_pred_2d(mdl, X_train, y_train, \n",
    "                       title=\"Decision tree (depth 1)\")"
   ]
  },
  {
   "cell_type": "markdown",
   "metadata": {
    "colab_type": "text",
    "id": "25zSX-inCNOJ"
   },
   "source": [
    "In this plot we can see the decision boundary on the y-axis, separating the predicted classes. The true classes are indicated at each point. Where the background and point colours are mismatched, there has been misclassification. Of course we are using a very simple model. Let's see what happens when we increase the depth.\n",
    "\n",
    "y軸に境界線（重症度スコア=78.5）があり、このモデルではその線を元にクラス分け（生存の予測 or 死亡の予測）を行っています。それぞれの点の色が本当のクラス（生存 or 死亡）を表しており、背景の色と点の色が異なる場合、クラス分けの不一致（misclassification）を示します。これより、depthを増やすことで複雑なモデルにしていきます。"
   ]
  },
  {
   "cell_type": "code",
   "execution_count": 0,
   "metadata": {
    "colab": {},
    "colab_type": "code",
    "id": "ZuO62CL3CSGm"
   },
   "outputs": [],
   "source": [
    "mdl = tree.DecisionTreeClassifier(max_depth=5)\n",
    "mdl = mdl.fit(X_train,y_train)"
   ]
  },
  {
   "cell_type": "code",
   "execution_count": 0,
   "metadata": {
    "colab": {},
    "colab_type": "code",
    "id": "A88Vi83LCSJ6"
   },
   "outputs": [],
   "source": [
    "plt.figure(figsize=[10,8])\n",
    "dtn.plot_model_pred_2d(mdl, X_train, y_train,\n",
    "                      title=\"Decision tree (depth 5)\")"
   ]
  },
  {
   "cell_type": "markdown",
   "metadata": {
    "colab_type": "text",
    "id": "B88XlKDtCYmn"
   },
   "source": [
    "Now our tree is more complicated! We can see a few vertical boundaries as well as the horizontal one from before. Some of these we may like, but some appear unnatural. Let's look at the tree itself.\n",
    "\n",
    "このモデルでは、x軸・y軸ともにsplitに使われているのがわかります。"
   ]
  },
  {
   "cell_type": "code",
   "execution_count": 0,
   "metadata": {
    "colab": {},
    "colab_type": "code",
    "id": "V1VLrOJJCcWo"
   },
   "outputs": [],
   "source": [
    "graph = dtn.create_graph(mdl,feature_names=features)\n",
    "Image(graph.create_png())"
   ]
  },
  {
   "cell_type": "markdown",
   "metadata": {
    "colab_type": "text",
    "id": "Ton_EnvFqHIO"
   },
   "source": [
    "Looking at the tree, we can see that there are some very specific rules. Consider our patient aged 65 years with an acute physiology score of 87. From the top of the tree, we would work our way down:\n",
    "\n",
    "重症度スコアが87である65歳の患者を例に考えてみましょう。\n",
    "\n",
    "- acutePhysiologyScore <= 78.5? No.\n",
    "- acutePhysiologyScore <= 106.5? Yes.\n",
    "- age <= 75.5? Yes\n",
    "- age <= 66. Yes.\n",
    "- age <= 62.5? No. \n",
    "\n",
    "This leads us to our single node with a gini impurity of 0. Having an entire rule based upon this one observation seems silly, but it is perfectly logical as at the moment. The only objective the algorithm cares about is minimizing the gini impurity.\n",
    "\n",
    "最終的にはGini impurityが0（100%生存 or 100%死亡）のnodeに行き着きます。臨床現場を考えるとこのように完璧なクラス分けは不可能に思われますが、このアルゴリズムではGiniのみを根拠にsplitするとこのようになります。\n",
    "\n",
    "We are at risk of overfitting our data! This is where \"pruning\" comes in.\n",
    "\n",
    "これがレクチャーで説明した\"overfit\"です。このoverfitを回避するため、\"pruning（枝を切り取る）\"を行います。"
   ]
  },
  {
   "cell_type": "code",
   "execution_count": 0,
   "metadata": {
    "colab": {},
    "colab_type": "code",
    "id": "VvsNIjCDDIo_"
   },
   "outputs": [],
   "source": [
    "# let's prune the model and look again\n",
    "mdl = dtn.prune(mdl, min_samples_leaf = 10)\n",
    "graph = dtn.create_graph(mdl,feature_names=features)\n",
    "Image(graph.create_png())  "
   ]
  },
  {
   "cell_type": "markdown",
   "metadata": {
    "colab_type": "text",
    "id": "8pRzzV2VvdxP"
   },
   "source": [
    "Above, we can see that our second tree is (1) smaller in depth, and (2) never splits a node with <= 10 samples. We can look at the decision surface for this tree:\n",
    "\n",
    "Treeのdepthは小さくなり、一つのnodeに10サンプル以下にはならないように設定されています。"
   ]
  },
  {
   "cell_type": "code",
   "execution_count": 0,
   "metadata": {
    "colab": {},
    "colab_type": "code",
    "id": "5LyGDz-Cr-mU"
   },
   "outputs": [],
   "source": [
    "plt.figure(figsize=[10,8])\n",
    "dtn.plot_model_pred_2d(mdl, X_train, y_train, title=\"Pruned decision tree\")"
   ]
  },
  {
   "cell_type": "markdown",
   "metadata": {
    "colab_type": "text",
    "id": "xAnqmD_Dv_dh"
   },
   "source": [
    "Our pruned decision tree has a much more intuitive boundary, but does make some errors. We have reduced our performance in an effort to simplify the tree. This is the classic machine learning problem of trading off complexity with error.\n",
    "\n",
    "このようにpruningされたtreeは、臨床家としては直感的に理解しやすいモデルのことが多いですが、その代わりに予測のエラーを引き起こしてしまいます。モデルの複雑性とエラーは、トレードオフの関係にあります。\n",
    "\n",
    "Note that, in order to do this, we \"invented\" the minimum samples per leaf node of 10. Why 10? Why not 5? Why not 20? The answer is: it depends on the dataset. Heuristically choosing these parameters can be time consuming, and we will see later on how gradient boosting elegantly handles this task.\n",
    "\n",
    "今回はnodeの最小サンプル数を10に設定しましたが、どのように決めればよいのでしょうか。この問題に関しては、\"Boosting\"で説明します。"
   ]
  },
  {
   "cell_type": "markdown",
   "metadata": {
    "colab_type": "text",
    "id": "2EFINpj-wD7H"
   },
   "source": [
    "## Decision trees have high \"variance\"\n",
    "\n",
    "Before we move on to boosting, it will be useful to demonstrate how decision trees have high \"variance\". In this context, variance refers to a property of some models to have a wide range of performance given random samples of data. Let's take a look at randomly slicing the data we have too see what that means.\n",
    "\n",
    "Desicion treeでは、variance（分散）が大きくなる傾向にあります。すなわち、モデルの元となるトレーニングセットのサンプルによって、毎回そのモデルが大きく変わってきます。以下に、データをランダムに抜き取り、モデルを複数作ってこのvarianceについて説明します。"
   ]
  },
  {
   "cell_type": "code",
   "execution_count": 0,
   "metadata": {
    "colab": {},
    "colab_type": "code",
    "id": "JT7fuuj6vjKB"
   },
   "outputs": [],
   "source": [
    "np.random.seed(123)\n",
    "\n",
    "fig = plt.figure(figsize=[12,3])\n",
    "\n",
    "for i in range(3):\n",
    "    ax = fig.add_subplot(1,3,i+1)\n",
    "\n",
    "    # generate indices in a random order\n",
    "    idx = np.random.permutation(X_train.shape[0])\n",
    "    \n",
    "    # only use the first 50\n",
    "    idx = idx[:50]\n",
    "    X_temp = X_train.iloc[idx]\n",
    "    y_temp = y_train.values[idx]\n",
    "    \n",
    "    # initialize the model\n",
    "    mdl = tree.DecisionTreeClassifier(max_depth=5)\n",
    "    \n",
    "    # train the model using the dataset\n",
    "    mdl = mdl.fit(X_temp, y_temp)\n",
    "    txt = 'Random sample {}'.format(i)\n",
    "    dtn.plot_model_pred_2d(mdl, X_temp, y_temp, title=txt)"
   ]
  },
  {
   "cell_type": "markdown",
   "metadata": {
    "colab_type": "text",
    "id": "j6VTIDr-yRRZ"
   },
   "source": [
    "Above we can see that we are using random subsets of data, and as a result, our decision boundary can change quite a bit. As you could guess, we actually don't want a model that randomly works well and randomly works poorly, so you may wonder why this is useful. \n",
    "\n",
    "このように、データをランダムに抽出しモデルを作成した際、それぞれのモデルの境界線は毎回大きく異なっています。しかし実際には、時に良く時に悪いモデルは必要ではありません。\n",
    "\n",
    "The trick is that by combining many of instances of \"high variance\" classifiers (decision trees), we can end up with a single classifier with low variance. There is an old joke: two farmers and a statistician go hunting. They see a deer: the first farmer shoots, and misses to the left. The next farmer shoots, and misses to the right. The statistician yells \"We got it!!\".\n",
    "\n",
    "しかし、このように大きなvariance（分散）を持つdecision treeを組み合わせることで、小さなvarianceをもつ一つのモデルを作り上げることができます。このようなジョークがあります。二人のハンターが鹿を狙っています。一人が撃つと鹿は左に避けました。もう一人が撃つと今度は右に避けました。それを見た統計家は、鹿の逃げる方向を予測できる！としたのです。\n",
    "\n",
    "While it doesn't quite hold in real life, it turns out that this principle does hold for decision trees. Combining them in the right way ends up building powerful models.\n",
    "\n",
    "現実世界では奇妙ですが、decision treeの世界ではこの原則が成り立ちます。すなわち、幾つもモデルを組み合わせることでとても良いモデルができあがります。"
   ]
  },
  {
   "cell_type": "markdown",
   "metadata": {
    "colab_type": "text",
    "id": "iWnKvx6myf9Z"
   },
   "source": [
    "## Boosting\n",
    "\n",
    "The premise of boosting is the combination of many weak learners to form a single \"strong\" learner. In a nutshell, boosting involves building a models iteratively, and at each step we focus on the data we performed poorly on. In our context, we'll use decision trees, so the first step would be to build a tree using the data. Next, we'd look at the data that we misclassified, and re-weight the data so that we really wanted to classify those observations correctly, at a cost of maybe getting some of the other data wrong this time. Let's see how this works in practice.\n",
    "\n",
    "\"Boosting\"とは、モデルを何回も反復して作成し、毎回そのエラーに注目することです。ここではまず初めに、データを用いて一つのtreeを作成します。次に、間違って分類したデータに注目し、それらのデータにweight（重み）を置くことで、それらのデータの分類を正確にしようと試みます（それによって他のデータのmisclassificationが起こる可能性はあります）。"
   ]
  },
  {
   "cell_type": "code",
   "execution_count": 0,
   "metadata": {
    "colab": {},
    "colab_type": "code",
    "id": "YJWxu0bTwRzD"
   },
   "outputs": [],
   "source": [
    "# build the model\n",
    "clf = tree.DecisionTreeClassifier(max_depth=1)\n",
    "mdl = ensemble.AdaBoostClassifier(base_estimator=clf,n_estimators=6)\n",
    "mdl = mdl.fit(X_train,y_train)\n",
    "\n",
    "# plot each individual decision tree\n",
    "fig = plt.figure(figsize=[12,6])\n",
    "for i, estimator in enumerate(mdl.estimators_):\n",
    "    ax = fig.add_subplot(2,3,i+1)\n",
    "    txt = 'Tree {}'.format(i+1)\n",
    "    dtn.plot_model_pred_2d(estimator, X_train, y_train, title=txt)"
   ]
  },
  {
   "cell_type": "markdown",
   "metadata": {
    "colab_type": "text",
    "id": "5zNfvDjTzh2U"
   },
   "source": [
    "Looking at the above, we can see that the first iteration builds the exact same simple decision tree as we had seen earlier. This makes sense. It's using the entire dataset with no special weighting. \n",
    "\n",
    "初めのモデルはweightを置いていないため、前述のモデルと同じになっています。\n",
    "\n",
    "In the next iteration we can see the model shift. It misclassified several observations in class 1, and now these are the most important observations. Consequently, it picks the boundary that, while prioritizing correctly classifies these observations, still tries to best classify the rest of the data too. \n",
    "\n",
    "次のモデルでは、初めのモデルで間違って分類したサンプルを重要視し、かつ残りのデータもできる限り正確に分類できる境界線を引いています。\n",
    "\n",
    "The iteration process continues, until the model is apparently creating boundaries to capture just one or two observations (see, for example, Tree 6 on the bottom right). \n",
    "\n",
    "この操作を繰り返し（iteration）、境界線が分けることのできるサンプルが少なくなるまで行います。\n",
    "\n",
    "One important point is that each tree is weighted by its global error. So, for example, Tree 6 would carry less weight in the final model. It is clear that we wouldn't want Tree 6 to carry the same importance as Tree 1, when Tree 1 is doing so much better overall. It turns out that weighting each tree by the inverse of its error is a pretty good way to do this.\n",
    "\n",
    "重要な点は、それぞれのtreeが全体のエラーによって違う重みを置かれていることです。例えば、tree 1はtree 6よりも全体のエラーが少ないので重要視されています。\n",
    "\n",
    "Let's look at final model's decision surface.\n"
   ]
  },
  {
   "cell_type": "code",
   "execution_count": 0,
   "metadata": {
    "colab": {},
    "colab_type": "code",
    "id": "3pVG5ytfzp_B"
   },
   "outputs": [],
   "source": [
    "# plot the final prediction\n",
    "plt.figure(figsize=[9,5])\n",
    "txt = 'Boosted tree (final decision surface)'\n",
    "dtn.plot_model_pred_2d(mdl, X_train, y_train, title=txt)"
   ]
  },
  {
   "cell_type": "markdown",
   "metadata": {
    "colab_type": "text",
    "id": "YRGRFjRgz26h"
   },
   "source": [
    "And that's AdaBoost! There are a few tricks we have glossed over here, but you understand the general principle. Now we'll move on to a different approach. With boosting, we iteratively changed the dataset to have new trees focus on the \"difficult\" observations. The next approach we discuss is similar as it also involves using changed versions of our dataset to build new trees.\n",
    "\n",
    "この一連の流れを\"AdaBoost（Adaptive Boosting）\"と呼びます。"
   ]
  },
  {
   "cell_type": "markdown",
   "metadata": {
    "colab_type": "text",
    "id": "EFNDNsIpfP7j"
   },
   "source": [
    "## Bagging\n",
    "\n",
    "Bootstrap aggregation, or \"Bagging\", is another form of *ensemble learning* where we aim to build a single good model by combining many models together. With AdaBoost, we modified the data to focus on hard to classify observations. We can imagine this as a form of resampling the data for each new tree. For example, say we have three observations: A, B, and C, `[A, B, C]`. If we correctly classify observations `[A, B]`, but incorrectly classify `C`, then AdaBoost involves building a new tree that focuses on `C`. Equivalently, we could say AdaBoost builds a new tree using the dataset `[A, B, C, C, C]`, where we have *intentionally* repeated observation `C` 3 times so that the algorithm thinks it is 3 times as important as the other observations. Makes sense?\n",
    "\n",
    "\"Boostrap aggegation\"や\"Bagging\"と呼ばれるこの手法も、一つのモデルを作り上げるため多くのモデルを組み合わせる方法です。しかしBoostapでは、トレーニングセットから毎回データを取り直す（resampling）してそれぞれのモデルを作ります。例えば、[A,B,C]という三つのサンプルがあり、Cを間違って分類したとします。AdaBoostの新しいtreeではこのCに重みを与えてモデルを作り直します。これは、Cというサンプルを意図的に何回もデータセットに組み込み（ex. [A,B,C,C,C]）、Cを他のサンプルよりも重要視するような新しいモデルを作っていると言うこともできます。\n",
    "\n",
    "Bagging involves the exact same approach, except we don't selectively choose which observations to focus on, but rather we *randomly select subsets of data each time*. As you can see, while this is a similar process to AdaBoost, the concept is quite different. Whereas before we aimed to iteratively improve our overall model with new trees, we now build trees on what we hope are independent datasets.\n",
    "\n",
    "Baggingでは意図的なサンプルの抽出（C）は行わず、毎回ランダムにデータセットを作ります。すなわち、それぞれ独立したデータセットを元にtreeを作っています。\n",
    "\n",
    "Let's take a step back, and think about a practical example. Say we wanted a good model of heart disease. If we saw researchers build a model from a dataset of patients from their hospital, we would be happy. If they then acquired a new dataset from new patients, and built a new model, we'd be inclined to feel that the combination of the two models would be better than any one individually. This exact scenario is what bagging aims to replicate, except instead of actually going out and collecting new datasets, we instead use bootstrapping to create new sets of data from our current dataset. If you are unfamiliar with bootstrapping, you can treat it as \"magic\" for now (and if you are familiar with the bootstrap, you already know that it is magic).\n",
    "\n",
    "ある病院のデータを元に心疾患を予測するモデルを作ります。そして、その病院の違ったデータを元にもう一つのモデルを作ります。この二つモデルを組み合わせた場合、ここのモデルよりも良いモデルができる気がしませんか？基本的にはこのような考え方ですが、ただこのboostrappingでは、現在のデータセットから新しいデータセットを作り出す点に注意してください。\n",
    "\n",
    "Let's take a look at a simple bootstrap model."
   ]
  },
  {
   "cell_type": "code",
   "execution_count": 0,
   "metadata": {
    "colab": {},
    "colab_type": "code",
    "id": "JrXAspvrzv8x"
   },
   "outputs": [],
   "source": [
    "np.random.seed(321)\n",
    "clf = tree.DecisionTreeClassifier(max_depth=5)\n",
    "mdl = ensemble.BaggingClassifier(base_estimator=clf, n_estimators=6)\n",
    "mdl = mdl.fit(X_train, y_train)\n",
    "\n",
    "fig = plt.figure(figsize=[12,6])\n",
    "for i, estimator in enumerate(mdl.estimators_):    \n",
    "    ax = fig.add_subplot(2,3,i+1)\n",
    "    txt = 'Tree {}'.format(i+1)\n",
    "    dtn.plot_model_pred_2d(estimator, X_train, y_train, \n",
    "                           title=txt)"
   ]
  },
  {
   "cell_type": "markdown",
   "metadata": {
    "colab_type": "text",
    "id": "s3kKUPORfW9F"
   },
   "source": [
    "We can see that each individual tree is quite variable - this is a result of using a random set of data to train the classifier.\n",
    "\n",
    "個々のtreeは大きく異なっています。これは、モデルを作りに際し毎回ランダムにデータセットを作っているからです。"
   ]
  },
  {
   "cell_type": "code",
   "execution_count": 0,
   "metadata": {
    "colab": {},
    "colab_type": "code",
    "id": "w_D7_-0HfVMy"
   },
   "outputs": [],
   "source": [
    "# plot the final prediction\n",
    "plt.figure(figsize=[8,5])\n",
    "txt = 'Bagged tree (final decision surface)'\n",
    "dtn.plot_model_pred_2d(mdl, X_train, y_train, title=txt)"
   ]
  },
  {
   "cell_type": "markdown",
   "metadata": {
    "colab_type": "text",
    "id": "AOFnG0r6faLS"
   },
   "source": [
    "Not bad! Of course, since this is a simple dataset, we are not seeing that many dramatic changes between different models. Don't worry, we'll quantitatively evaluate them later.\n",
    "\n",
    "Next up, a minor addition creates one of the most popular models in machine learning."
   ]
  },
  {
   "cell_type": "markdown",
   "metadata": {
    "colab_type": "text",
    "id": "aiqrVfYtfcYk"
   },
   "source": [
    "## Random Forest\n",
    "\n",
    "Above, we used bagging to randomly resample our data to generate \"new\" datasets to build trees from. The Random Forest takes this one step further: instead of just resampling our data, we also select only a fraction of the features to include. It turns out that this subselection tends to improve the performance of our models. The odds of an individual being very good or very bad is higher (i.e. the variance of the trees is increased), and this ends up giving us a final model with better overall performance (lower bias).\n",
    "\n",
    "Random forestでは、baggingを更に進化させたもので、単にデータ全体をresamplingせずに、ランダムに選んだ一部の予測因子のみを用いてtreeを何度も作り、最後にそれらを組み合わせます。\n",
    "\n",
    "Let's train the model now."
   ]
  },
  {
   "cell_type": "code",
   "execution_count": 0,
   "metadata": {
    "colab": {},
    "colab_type": "code",
    "id": "u27LS36_fglG"
   },
   "outputs": [],
   "source": [
    "np.random.seed(321)\n",
    "mdl = ensemble.RandomForestClassifier(max_depth=5, n_estimators=6, max_features=1)\n",
    "mdl = mdl.fit(X_train,y_train)\n",
    "\n",
    "fig = plt.figure(figsize=[12,6])\n",
    "for i, estimator in enumerate(mdl.estimators_):    \n",
    "    ax = fig.add_subplot(2,3,i+1)\n",
    "    txt = 'Tree {}'.format(i+1)\n",
    "    dtn.plot_model_pred_2d(estimator, X_train, y_train, title=txt)"
   ]
  },
  {
   "cell_type": "code",
   "execution_count": 0,
   "metadata": {
    "colab": {},
    "colab_type": "code",
    "id": "5aG0PI8lruGN"
   },
   "outputs": [],
   "source": [
    "plt.figure(figsize=[9,5])\n",
    "txt = 'Random forest (final decision surface)'\n",
    "dtn.plot_model_pred_2d(mdl, X_train, y_train, title=txt)"
   ]
  },
  {
   "cell_type": "markdown",
   "metadata": {
    "colab_type": "text",
    "id": "2KmJuztXfjzm"
   },
   "source": [
    "Again, the visualization doesn't *really* show us the power of Random Forests, but we'll quantitatively evaluate them soon enough.\n",
    "\n",
    "Last, and not least, we move on to gradient boosting."
   ]
  },
  {
   "cell_type": "markdown",
   "metadata": {
    "colab_type": "text",
    "id": "LTP8zFIofl2v"
   },
   "source": [
    "## Gradient Boosting\n",
    "\n",
    "Gradient boosting (GB) is our last topic - and elegantly combines concepts from the previous methods. \n",
    "As a \"boosting\" method, GB involves iteratively building trees, aiming to improve upon misclassifications of the previous tree. GB also borrows the concept of sub sampling the number of columns (as was done in Random Forests), which tends to prevent overfitting.\n",
    "\n",
    "このgradient boosting (GB)は、misclassificationを減らすため前のtreeを考慮するというboostingの概念と、ある予測因子のサンプリングを行うというrandom forestの概念を組み合わせたものです。\n",
    "\n",
    "While it is hard to express in this non-technical tutorial, the biggest innovation in GB is that it provides a unifying mathematical framework for boosting models.\n",
    "GB explicitly casts the problem of building a tree as an optimization problem, defining mathematical functions for how well a tree is performing (which we had before) *and* how complex a tree is. In this light, one can actually treat AdaBoost as a \"special case\" of GB, where the loss function is chosen to be the exponential loss.\n",
    "\n",
    "詳細は割愛しますが、簡単に表現するならばGBはboosting modelを数学的に捉えることです。Treeがどの程度良いものでどの程度複雑であるかを、数学的functionを置いて考えることができます。その意味では、AdaBoostもloss function（test errorを考えるfunctionの一つ)を用いたGBの一部と考えることができます。\n",
    "\n",
    "Let's build a GB model."
   ]
  },
  {
   "cell_type": "code",
   "execution_count": 0,
   "metadata": {
    "colab": {},
    "colab_type": "code",
    "id": "L_QVZ9oNfnqk"
   },
   "outputs": [],
   "source": [
    "np.random.seed(321)\n",
    "mdl = ensemble.GradientBoostingClassifier(n_estimators=10)\n",
    "mdl = mdl.fit(X_train, y_train)\n",
    "\n",
    "plt.figure(figsize=[9,5])\n",
    "txt = 'Gradient boosted tree (final decision surface)'\n",
    "dtn.plot_model_pred_2d(mdl, X_train, y_train, title=txt)"
   ]
  },
  {
   "cell_type": "markdown",
   "metadata": {
    "colab_type": "text",
    "id": "tcCzP4gAsd7L"
   },
   "source": [
    "## Comparing model performance\n",
    "\n",
    "We've now learned the basics of the various tree methods and have visualized most of them. Let's finish by comparing the performance of our models on our held-out test data. Our goal, remember, is to predict whether or not a patient will survive their hospital stay using the patient's age and acute physiology score computed on the first day of their ICU stay.\n",
    "\n",
    "最後に、これまで説明してきた様々なモデルのパフォーマンスを、テストセットを用いて比べてみましょう。"
   ]
  },
  {
   "cell_type": "code",
   "execution_count": 0,
   "metadata": {
    "colab": {},
    "colab_type": "code",
    "id": "tQST4TQAtHmU"
   },
   "outputs": [],
   "source": [
    "clf = dict()\n",
    "clf['Decision Tree'] = tree.DecisionTreeClassifier(criterion='entropy', splitter='best').fit(X_train,y_train)\n",
    "clf['Gradient Boosting'] = ensemble.GradientBoostingClassifier(n_estimators=10).fit(X_train, y_train)\n",
    "clf['Random Forest'] = ensemble.RandomForestClassifier(n_estimators=10).fit(X_train, y_train)\n",
    "clf['Bagging'] =  ensemble.BaggingClassifier(n_estimators=10).fit(X_train, y_train)\n",
    "clf['AdaBoost'] =  ensemble.AdaBoostClassifier(n_estimators=10).fit(X_train, y_train)\n",
    "\n",
    "fig = plt.figure(figsize=[10,10])\n",
    "\n",
    "print('AUROC\\tModel')\n",
    "for i, curr_mdl in enumerate(clf):    \n",
    "    yhat = clf[curr_mdl].predict_proba(X_test)[:,1]\n",
    "    score = metrics.roc_auc_score(y_test, yhat)\n",
    "    print('{:0.3f}\\t{}'.format(score, curr_mdl))\n",
    "    ax = fig.add_subplot(3,2,i+1)\n",
    "    dtn. plot_model_pred_2d(clf[curr_mdl], X_test, y_test, title=curr_mdl)\n",
    "    "
   ]
  },
  {
   "cell_type": "markdown",
   "metadata": {
    "colab_type": "text",
    "id": "osr6iM6ltLAP"
   },
   "source": [
    "Here we can see that quantitatively, Gradient Boosting has produced the highest discrimination among all the models (~0.91). You'll see that some of the models appear to have simpler decision surfaces, which tends to result in improved generalization on a held-out test set (though not always!).\n",
    "\n",
    "定量的には、Gradient Boostingが最も高いdiscrimination（アウトカムカテゴリーを正確に区別できるかの指標で、ROC曲線下面積などが用いられる）を示しています。常にではありませんが、単純なモデルはテストセットへの一般化が有利にある傾向があります。\n",
    "\n",
    "To make appropriate comparisons, we should calculate 95% confidence intervals on these performance estimates. This can be done a number of ways; the easiest is to bootstrap the calculation.\n",
    "\n",
    "適切に比較するためには、それぞれの95%信頼区間を計算する必要があります。95%信頼区間を求める最も簡単な方法はbootstrapです。"
   ]
  },
  {
   "cell_type": "markdown",
   "metadata": {
    "colab_type": "text",
    "id": "kABSe8ZmudSH"
   },
   "source": [
    "## Further reading"
   ]
  },
  {
   "cell_type": "code",
   "execution_count": 0,
   "metadata": {
    "colab": {},
    "colab_type": "code",
    "id": "bfFZSe0vue86"
   },
   "outputs": [],
   "source": []
  }
 ],
 "metadata": {
  "colab": {
   "collapsed_sections": [],
   "name": "04-prediction",
   "provenance": [],
   "version": "0.3.2"
  },
  "kernelspec": {
   "display_name": "Python 3",
   "language": "python",
   "name": "python3"
  },
  "language_info": {
   "codemirror_mode": {
    "name": "ipython",
    "version": 3
   },
   "file_extension": ".py",
   "mimetype": "text/x-python",
   "name": "python",
   "nbconvert_exporter": "python",
   "pygments_lexer": "ipython3",
   "version": "3.6.5"
  }
 },
 "nbformat": 4,
 "nbformat_minor": 1
}
