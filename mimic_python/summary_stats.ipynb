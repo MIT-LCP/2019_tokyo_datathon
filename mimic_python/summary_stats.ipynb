{
  "nbformat": 4,
  "nbformat_minor": 0,
  "metadata": {
    "colab": {
      "name": "03-summary-statistics",
      "version": "0.3.2",
      "provenance": [],
      "collapsed_sections": [],
      "include_colab_link": true
    },
    "kernelspec": {
      "display_name": "Python 3",
      "language": "python",
      "name": "python3"
    }
  },
  "cells": [
    {
      "cell_type": "markdown",
      "metadata": {
        "id": "view-in-github",
        "colab_type": "text"
      },
      "source": [
        "<a href=\"https://colab.research.google.com/github/MIT-LCP/2019_tokyo_datathon/blob/master/mimic_python/summary_stats.ipynb\" target=\"_parent\"><img src=\"https://colab.research.google.com/assets/colab-badge.svg\" alt=\"Open In Colab\"/></a>"
      ]
    },
    {
      "metadata": {
        "colab_type": "text",
        "id": "1G_TVh1ybQkl"
      },
      "cell_type": "markdown",
      "source": [
        "# MIMIC-III\n",
        "\n",
        "# Summary statistics\n",
        "\n",
        "This notebook shows how summary statistics can be computed for a patient cohort using the `tableone` package. Usage instructions for tableone are at: https://pypi.org/project/tableone/\n",
        "\n",
        "このノートブックでは、`tableone`というパッケージを用いて、データの分布などの詳細について見ていきます。"
      ]
    },
    {
      "metadata": {
        "colab_type": "text",
        "id": "L9XF77F2bnee"
      },
      "cell_type": "markdown",
      "source": [
        "## Load libraries and connect to the database"
      ]
    },
    {
      "metadata": {
        "colab_type": "code",
        "id": "wXiSE558bn_w",
        "colab": {}
      },
      "cell_type": "code",
      "source": [
        "# Import libraries\n",
        "import numpy as np\n",
        "import os\n",
        "import pandas as pd\n",
        "import matplotlib.pyplot as plt\n",
        "import matplotlib.patches as patches\n",
        "import matplotlib.path as path\n",
        "\n",
        "# Make pandas dataframes prettier\n",
        "from IPython.display import display, HTML\n",
        "\n",
        "# Access data using Google BigQuery.\n",
        "from google.colab import auth\n",
        "from google.cloud import bigquery"
      ],
      "execution_count": 0,
      "outputs": []
    },
    {
      "metadata": {
        "colab_type": "code",
        "id": "pLGnLAy-bsKb",
        "colab": {}
      },
      "cell_type": "code",
      "source": [
        "# authenticate\n",
        "auth.authenticate_user()"
      ],
      "execution_count": 0,
      "outputs": []
    },
    {
      "metadata": {
        "colab_type": "code",
        "id": "PUjFDFdobszs",
        "colab": {}
      },
      "cell_type": "code",
      "source": [
        "# Set up environment variables\n",
        "project_id='datathonjapan2019'\n",
        "os.environ[\"GOOGLE_CLOUD_PROJECT\"]=project_id"
      ],
      "execution_count": 0,
      "outputs": []
    },
    {
      "metadata": {
        "colab_type": "text",
        "id": "ObJnK4WTUBKo"
      },
      "cell_type": "markdown",
      "source": [
        "To make our lives easier, we'll also install and import a set of helper functions from the `datathon2` package."
      ]
    },
    {
      "metadata": {
        "colab_type": "code",
        "id": "bkJUF8HBbvWe",
        "colab": {}
      },
      "cell_type": "code",
      "source": [
        "!pip install datathon2"
      ],
      "execution_count": 0,
      "outputs": []
    },
    {
      "metadata": {
        "colab_type": "code",
        "id": "dzPzFZykUIIx",
        "colab": {}
      },
      "cell_type": "code",
      "source": [
        "import datathon2 as dtn"
      ],
      "execution_count": 0,
      "outputs": []
    },
    {
      "metadata": {
        "colab_type": "text",
        "id": "iWDUCA5Nb5BK"
      },
      "cell_type": "markdown",
      "source": [
        "## Install and load the `tableone` package\n",
        "\n",
        "The tableone package can be used to compute summary statistics for a patient cohort. Unlike the previous packages, it is not installed by default in Colab, so will need to install it first.\n",
        "\n",
        "これまで使ったパッケージに加え、`tableone`もインストールします。"
      ]
    },
    {
      "metadata": {
        "colab_type": "code",
        "id": "F9doCgtscOJd",
        "colab": {}
      },
      "cell_type": "code",
      "source": [
        "!pip install tableone"
      ],
      "execution_count": 0,
      "outputs": []
    },
    {
      "metadata": {
        "colab_type": "code",
        "id": "SDI_Q7W0b4Le",
        "colab": {}
      },
      "cell_type": "code",
      "source": [
        "# Import the tableone class\n",
        "from tableone import TableOne"
      ],
      "execution_count": 0,
      "outputs": []
    },
    {
      "metadata": {
        "colab_type": "text",
        "id": "14TU4lcrdD7I"
      },
      "cell_type": "markdown",
      "source": [
        "## Load the patient cohort\n",
        "\n",
        "In this example, we will load data from the `admissions` table, taking the first hospital admission for each patient."
      ]
    },
    {
      "metadata": {
        "colab_type": "code",
        "id": "HF5WF5EObwfw",
        "colab": {}
      },
      "cell_type": "code",
      "source": [
        "# Link the patient and apachepatientresult tables on patientunitstayid\n",
        "# using an inner join.\n",
        "query = \"\"\"\n",
        "WITH tmp AS (\n",
        "SELECT a.subject_id, a.hadm_id, a.admission_type, a.admission_location, a.discharge_location,\n",
        "      a.insurance, a.ethnicity, a.diagnosis, a.hospital_expire_flag,\n",
        "      DENSE_RANK() OVER (PARTITION BY a.subject_id ORDER BY a.admittime) AS hospstay_seq,\n",
        "      DATETIME_DIFF(a.dischtime, a.admittime, DAY) AS los_hospital_days,\n",
        "      DATETIME_DIFF(a.edouttime, a.edregtime, HOUR) AS los_emergency_hrs\n",
        "FROM `physionet-data.mimiciii_demo.admissions` a)\n",
        "SELECT *\n",
        "FROM tmp\n",
        "WHERE hospstay_seq = 1;\n",
        "\"\"\"\n",
        "\n",
        "cohort = dtn.run_query(query,project_id)"
      ],
      "execution_count": 0,
      "outputs": []
    },
    {
      "metadata": {
        "colab_type": "code",
        "id": "k3hURHFihHNA",
        "colab": {}
      },
      "cell_type": "code",
      "source": [
        "cohort.head()"
      ],
      "execution_count": 0,
      "outputs": []
    },
    {
      "metadata": {
        "colab_type": "text",
        "id": "qnG8dVb2iHSn"
      },
      "cell_type": "markdown",
      "source": [
        "## Summary statistics"
      ]
    },
    {
      "metadata": {
        "colab_type": "code",
        "id": "FQT-u8EXhXRG",
        "colab": {}
      },
      "cell_type": "code",
      "source": [
        "columns = ['admission_type', 'admission_location', 'discharge_location', 'insurance',\n",
        "          'ethnicity','los_hospital_days','los_emergency_hrs']\n",
        "\n",
        "categorical = ['admission_type', 'admission_location', 'discharge_location', 'insurance',\n",
        "          'ethnicity']"
      ],
      "execution_count": 0,
      "outputs": []
    },
    {
      "metadata": {
        "colab_type": "code",
        "id": "3ETr3NCzielL",
        "colab": {}
      },
      "cell_type": "code",
      "source": [
        "TableOne(cohort, columns=columns, categorical = categorical, \n",
        "         groupby='hospital_expire_flag',\n",
        "         label_suffix=True, limit=4)"
      ],
      "execution_count": 0,
      "outputs": []
    },
    {
      "metadata": {
        "colab_type": "text",
        "id": "2_8z1CIVahWg"
      },
      "cell_type": "markdown",
      "source": [
        "## Visualizing the data\n",
        "\n",
        "Plotting the distribution of each variable by group level via histograms, kernel density estimates and boxplots is a crucial component to data analysis pipelines. Vizualisation is often is the only way to detect problematic variables in many real-life scenarios. We'll review a couple of the variables.\n",
        "\n",
        "データの分布を視覚化することは、データの問題点を把握するために非常に重要な方法です。以下にその例をみてみましょう。"
      ]
    },
    {
      "metadata": {
        "colab_type": "code",
        "id": "81yp2bSUigzh",
        "colab": {}
      },
      "cell_type": "code",
      "source": [
        "# Plot distributions to review possible multimodality\n",
        "cohort[['los_emergency_hrs','los_hospital_days']].dropna().plot.kde(figsize=[12,8])\n",
        "plt.legend(['ED time,Hours', 'Hospital LOS'])\n",
        "plt.xlim([-30,50])"
      ],
      "execution_count": 0,
      "outputs": []
    }
  ]
}