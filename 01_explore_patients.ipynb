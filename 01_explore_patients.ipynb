{
  "nbformat": 4,
  "nbformat_minor": 0,
  "metadata": {
    "colab": {
      "name": "02-explore-patient-table",
      "version": "0.3.2",
      "provenance": [],
      "collapsed_sections": [],
      "include_colab_link": true
    },
    "kernelspec": {
      "name": "python3",
      "display_name": "Python 3"
    }
  },
  "cells": [
    {
      "cell_type": "markdown",
      "metadata": {
        "id": "view-in-github",
        "colab_type": "text"
      },
      "source": [
        "<a href=\"https://colab.research.google.com/github/MIT-LCP/2019_tokyo_datathon/blob/master/01_explore_patients.ipynb\" target=\"_parent\"><img src=\"https://colab.research.google.com/assets/colab-badge.svg\" alt=\"Open In Colab\"/></a>"
      ]
    },
    {
      "metadata": {
        "id": "NCI19_Ix7xuI",
        "colab_type": "text"
      },
      "cell_type": "markdown",
      "source": [
        "# eICU Collaborative Research Database\n",
        "\n",
        "# Notebook 2: Exploring the patient table\n",
        "\n",
        "In this notebook we introduce the patient table, a key table in the [eICU Collaborative Research Database](http://eicu-crd.mit.edu/). The patient table contains patient demographics and admission and discharge details for hospital and ICU stays. For more detail, see: http://eicu-crd.mit.edu/eicutables/patient/"
      ]
    },
    {
      "metadata": {
        "id": "l_CmlcBu8Wei",
        "colab_type": "text"
      },
      "cell_type": "markdown",
      "source": [
        "## Load libraries and connect to the data\n",
        "\n",
        "Run the following cells to import some libraries and then connect to the database."
      ]
    },
    {
      "metadata": {
        "id": "3WQsJiAj8B5L",
        "colab_type": "code",
        "colab": {}
      },
      "cell_type": "code",
      "source": [
        "# Import libraries\n",
        "import numpy as np\n",
        "import os\n",
        "import pandas as pd\n",
        "import matplotlib.pyplot as plt\n",
        "import matplotlib.patches as patches\n",
        "import matplotlib.path as path\n",
        "\n",
        "# Make pandas dataframes prettier\n",
        "from IPython.display import display, HTML\n",
        "\n",
        "# Access data using Google BigQuery.\n",
        "from google.colab import auth\n",
        "from google.cloud import bigquery"
      ],
      "execution_count": 0,
      "outputs": []
    },
    {
      "metadata": {
        "id": "Ld59KZ0W9E4v",
        "colab_type": "text"
      },
      "cell_type": "markdown",
      "source": [
        "As before, you need to first authenticate yourself by running the following cell. If you are running it for the first time, it will ask you to follow a link to log in using your Gmail account, and accept the data access requests to your profile. Once this is done, it will generate a string of verification code, which you should paste back to the cell below and press enter."
      ]
    },
    {
      "metadata": {
        "id": "ABh4hMt288yg",
        "colab_type": "code",
        "colab": {}
      },
      "cell_type": "code",
      "source": [
        "auth.authenticate_user()"
      ],
      "execution_count": 0,
      "outputs": []
    },
    {
      "metadata": {
        "id": "BPoHP2a8_eni",
        "colab_type": "text"
      },
      "cell_type": "markdown",
      "source": [
        "We'll also set the project details."
      ]
    },
    {
      "metadata": {
        "id": "P0fdtVMa_di9",
        "colab_type": "code",
        "colab": {}
      },
      "cell_type": "code",
      "source": [
        "project_id='datathonjapan2019'\n",
        "os.environ[\"GOOGLE_CLOUD_PROJECT\"]=project_id"
      ],
      "execution_count": 0,
      "outputs": []
    },
    {
      "metadata": {
        "id": "5bHZALFP9VN1",
        "colab_type": "text"
      },
      "cell_type": "markdown",
      "source": [
        "# Load data from the `patient` table\n",
        "\n",
        "Now we can start exploring the data. We'll begin by running a simple query on the database to load all columns of the `patient` table to a Pandas DataFrame. The query is written in SQL, a common language for extracting data from databases. The structure of an SQL query is:\n",
        "\n",
        "```sql\n",
        "SELECT <columns>\n",
        "FROM <table>\n",
        "WHERE <criteria, optional>\n",
        "```\n",
        "\n",
        "`*` is a wildcard that indicates all columns"
      ]
    },
    {
      "metadata": {
        "id": "3cddF8qc-7h4",
        "colab_type": "code",
        "colab": {}
      },
      "cell_type": "code",
      "source": [
        "# Helper function to read data from BigQuery into a DataFrame.\n",
        "def run_query(query):\n",
        "    return pd.io.gbq.read_gbq(query, project_id=project_id, verbose=False, \n",
        "                            configuration={'query':{'useLegacySql': False}})"
      ],
      "execution_count": 0,
      "outputs": []
    },
    {
      "metadata": {
        "id": "RE-UZAPG_rHq",
        "colab_type": "code",
        "colab": {}
      },
      "cell_type": "code",
      "source": [
        "query = \"\"\"\n",
        "SELECT *\n",
        "FROM `physionet-data.eicu_crd_demo.patient`\n",
        "\"\"\"\n",
        "\n",
        "patient = run_query(query)"
      ],
      "execution_count": 0,
      "outputs": []
    },
    {
      "metadata": {
        "id": "YbnkcCZxBkdK",
        "colab_type": "text"
      },
      "cell_type": "markdown",
      "source": [
        "We have now assigned the output to our query to a variable called `patient`. Let's use the `head` method to view the first few rows of our data."
      ]
    },
    {
      "metadata": {
        "id": "GZph0FPDASEs",
        "colab_type": "code",
        "colab": {}
      },
      "cell_type": "code",
      "source": [
        "# view the top few rows of the patient data\n",
        "patient.head()"
      ],
      "execution_count": 0,
      "outputs": []
    },
    {
      "metadata": {
        "id": "TlxaXLevC_Rz",
        "colab_type": "text"
      },
      "cell_type": "markdown",
      "source": [
        "## Questions\n",
        "\n",
        "- What does `patientunitstayid` represent? (hint, see: http://eicu-crd.mit.edu/eicutables/patient/)\n",
        "- What does `patienthealthsystemstayid` represent?\n",
        "- What does `uniquepid` represent?"
      ]
    },
    {
      "metadata": {
        "id": "2rLY0WyCBzp9",
        "colab_type": "code",
        "colab": {}
      },
      "cell_type": "code",
      "source": [
        "# select a limited number of columns to view\n",
        "columns = ['uniquepid', 'patientunitstayid','gender','age','unitdischargestatus']\n",
        "patient[columns].head()"
      ],
      "execution_count": 0,
      "outputs": []
    },
    {
      "metadata": {
        "id": "FSdS2hS4EWtb",
        "colab_type": "text"
      },
      "cell_type": "markdown",
      "source": [
        "- Try running the following query, which lists unique values in the age column. What do you notice?"
      ]
    },
    {
      "metadata": {
        "id": "0Aom69ftDxBN",
        "colab_type": "code",
        "colab": {}
      },
      "cell_type": "code",
      "source": [
        "# what are the unique values for age?\n",
        "age_col = 'age'\n",
        "patient[age_col].sort_values().unique()"
      ],
      "execution_count": 0,
      "outputs": []
    },
    {
      "metadata": {
        "id": "Y_qJL94jE0k8",
        "colab_type": "text"
      },
      "cell_type": "markdown",
      "source": [
        "- Try plotting a histogram of ages using the command in the cell below. What happens? Why?"
      ]
    },
    {
      "metadata": {
        "id": "1zad3Gr4D4LE",
        "colab_type": "code",
        "colab": {}
      },
      "cell_type": "code",
      "source": [
        "# try plotting a histogram of ages\n",
        "patient[age_col].plot(kind='hist', bins=15)"
      ],
      "execution_count": 0,
      "outputs": []
    },
    {
      "metadata": {
        "id": "xIdwVEEPF25H",
        "colab_type": "text"
      },
      "cell_type": "markdown",
      "source": [
        "Let's create a new column named `age_num`, then try again."
      ]
    },
    {
      "metadata": {
        "id": "-rwc-28oFF6R",
        "colab_type": "code",
        "colab": {}
      },
      "cell_type": "code",
      "source": [
        "# create a column containing numerical ages\n",
        "# If ‘coerce’, then invalid parsing will be set as NaN\n",
        "agenum_col = 'age_num'\n",
        "patient[agenum_col] = pd.to_numeric(patient[age_col], errors='coerce')\n",
        "patient[agenum_col].sort_values().unique()"
      ],
      "execution_count": 0,
      "outputs": []
    },
    {
      "metadata": {
        "id": "uTFMqqWqFMjG",
        "colab_type": "code",
        "colab": {}
      },
      "cell_type": "code",
      "source": [
        "patient[agenum_col].plot(kind='hist', bins=15)"
      ],
      "execution_count": 0,
      "outputs": []
    },
    {
      "metadata": {
        "id": "FrbR8rV3GlR1",
        "colab_type": "text"
      },
      "cell_type": "markdown",
      "source": [
        "## Questions\n",
        "\n",
        "- Use the `mean()` method to find the average age. Why do we expect this to be lower than the true mean?\n",
        "- In the same way that you use `mean()`, you can use `describe()`, `max()`, and `min()`. Look at the admission heights (`admissionheight`) of patients in cm. What issue do you see? How can you deal with this issue?"
      ]
    },
    {
      "metadata": {
        "id": "TPps13DZG6Ac",
        "colab_type": "code",
        "colab": {}
      },
      "cell_type": "code",
      "source": [
        "adheight_col = 'admissionheight'\n",
        "patient[adheight_col].describe()"
      ],
      "execution_count": 0,
      "outputs": []
    },
    {
      "metadata": {
        "id": "9jhV9xQoGRJq",
        "colab_type": "code",
        "colab": {}
      },
      "cell_type": "code",
      "source": [
        "# set threshold\n",
        "adheight_col = 'admissionheight'\n",
        "patient[patient[adheight_col] < 10] = None"
      ],
      "execution_count": 0,
      "outputs": []
    }
  ]
}