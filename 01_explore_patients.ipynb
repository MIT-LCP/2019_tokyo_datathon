{
  "nbformat": 4,
  "nbformat_minor": 0,
  "metadata": {
    "colab": {
      "name": "01-explore-patient-table",
      "version": "0.3.2",
      "provenance": [],
      "collapsed_sections": [],
      "include_colab_link": true
    },
    "kernelspec": {
      "name": "python3",
      "display_name": "Python 3"
    }
  },
  "cells": [
    {
      "cell_type": "markdown",
      "metadata": {
        "id": "view-in-github",
        "colab_type": "text"
      },
      "source": [
        "<a href=\"https://colab.research.google.com/github/MIT-LCP/2019_tokyo_datathon/blob/master/01_explore_patients.ipynb\" target=\"_parent\"><img src=\"https://colab.research.google.com/assets/colab-badge.svg\" alt=\"Open In Colab\"/></a>"
      ]
    },
    {
      "metadata": {
        "id": "NCI19_Ix7xuI",
        "colab_type": "text"
      },
      "cell_type": "markdown",
      "source": [
        "# eICU Collaborative Research Database\n",
        "\n",
        "# Notebook 1: Exploring the patient table\n",
        "\n",
        "In this notebook we introduce the patient table, a key table in the [eICU Collaborative Research Database](http://eicu-crd.mit.edu/). The patient table contains patient demographics and admission and discharge details for hospital and ICU stays. For more detail, see: http://eicu-crd.mit.edu/eicutables/patient/"
      ]
    },
    {
      "metadata": {
        "id": "l_CmlcBu8Wei",
        "colab_type": "text"
      },
      "cell_type": "markdown",
      "source": [
        "## Load libraries and connect to the data\n",
        "\n",
        "Run the following cells to import some libraries and then connect to the database."
      ]
    },
    {
      "metadata": {
        "id": "3WQsJiAj8B5L",
        "colab_type": "code",
        "colab": {}
      },
      "cell_type": "code",
      "source": [
        "# Import libraries\n",
        "import numpy as np\n",
        "import os\n",
        "import pandas as pd\n",
        "import matplotlib.pyplot as plt\n",
        "import matplotlib.patches as patches\n",
        "import matplotlib.path as path\n",
        "\n",
        "# Make pandas dataframes prettier\n",
        "from IPython.display import display, HTML\n",
        "\n",
        "# Access data using Google BigQuery.\n",
        "from google.colab import auth\n",
        "from google.cloud import bigquery"
      ],
      "execution_count": 0,
      "outputs": []
    },
    {
      "metadata": {
        "id": "Ld59KZ0W9E4v",
        "colab_type": "text"
      },
      "cell_type": "markdown",
      "source": [
        "As before, you need to first authenticate yourself by running the following cell. If you are running it for the first time, it will ask you to follow a link to log in using your Gmail account, and accept the data access requests to your profile. Once this is done, it will generate a string of verification code, which you should paste back to the cell below and press enter."
      ]
    },
    {
      "metadata": {
        "id": "ABh4hMt288yg",
        "colab_type": "code",
        "colab": {}
      },
      "cell_type": "code",
      "source": [
        "auth.authenticate_user()"
      ],
      "execution_count": 0,
      "outputs": []
    },
    {
      "metadata": {
        "id": "BPoHP2a8_eni",
        "colab_type": "text"
      },
      "cell_type": "markdown",
      "source": [
        "We'll also set the project details."
      ]
    },
    {
      "metadata": {
        "id": "P0fdtVMa_di9",
        "colab_type": "code",
        "colab": {}
      },
      "cell_type": "code",
      "source": [
        "project_id='datathonjapan2019'\n",
        "os.environ[\"GOOGLE_CLOUD_PROJECT\"]=project_id"
      ],
      "execution_count": 0,
      "outputs": []
    },
    {
      "metadata": {
        "id": "loOu79n7P-j9",
        "colab_type": "text"
      },
      "cell_type": "markdown",
      "source": [
        "To make our lives easier, finally we'll install and import a set of helper functions from the `datathon2` package."
      ]
    },
    {
      "metadata": {
        "id": "8TgC_2rDP-_R",
        "colab_type": "code",
        "colab": {
          "base_uri": "https://localhost:8080/",
          "height": 141
        },
        "outputId": "f1040ada-b3f9-4529-dba7-e09d61cf4d24"
      },
      "cell_type": "code",
      "source": [
        "!pip install datathon2"
      ],
      "execution_count": 10,
      "outputs": [
        {
          "output_type": "stream",
          "text": [
            "Requirement already satisfied: datathon2 in /usr/local/lib/python3.6/dist-packages (0.1.1)\n",
            "Requirement already satisfied: pandas>=0.22.0 in /usr/local/lib/python3.6/dist-packages (from datathon2) (0.22.0)\n",
            "Requirement already satisfied: numpy>=1.12.1 in /usr/local/lib/python3.6/dist-packages (from datathon2) (1.14.6)\n",
            "Requirement already satisfied: pytz>=2011k in /usr/local/lib/python3.6/dist-packages (from pandas>=0.22.0->datathon2) (2018.9)\n",
            "Requirement already satisfied: python-dateutil>=2 in /usr/local/lib/python3.6/dist-packages (from pandas>=0.22.0->datathon2) (2.5.3)\n",
            "Requirement already satisfied: six>=1.5 in /usr/local/lib/python3.6/dist-packages (from python-dateutil>=2->pandas>=0.22.0->datathon2) (1.11.0)\n"
          ],
          "name": "stdout"
        }
      ]
    },
    {
      "metadata": {
        "id": "a7IeYb4TQUMQ",
        "colab_type": "code",
        "colab": {}
      },
      "cell_type": "code",
      "source": [
        "import datathon2 as dtn"
      ],
      "execution_count": 0,
      "outputs": []
    },
    {
      "metadata": {
        "id": "5bHZALFP9VN1",
        "colab_type": "text"
      },
      "cell_type": "markdown",
      "source": [
        "# Load data from the `patient` table\n",
        "\n",
        "Now we can start exploring the data. We'll begin by running a simple query on the database to load all columns of the `patient` table to a Pandas DataFrame. The query is written in SQL, a common language for extracting data from databases. The structure of an SQL query is:\n",
        "\n",
        "```sql\n",
        "SELECT <columns>\n",
        "FROM <table>\n",
        "WHERE <criteria, optional>\n",
        "```\n",
        "\n",
        "`*` is a wildcard that indicates all columns"
      ]
    },
    {
      "metadata": {
        "id": "RE-UZAPG_rHq",
        "colab_type": "code",
        "colab": {}
      },
      "cell_type": "code",
      "source": [
        "query = \"\"\"\n",
        "SELECT *\n",
        "FROM `physionet-data.eicu_crd_demo.patient`\n",
        "\"\"\"\n",
        "\n",
        "patient = dtn.run_query(query,project_id)"
      ],
      "execution_count": 0,
      "outputs": []
    },
    {
      "metadata": {
        "id": "YbnkcCZxBkdK",
        "colab_type": "text"
      },
      "cell_type": "markdown",
      "source": [
        "We have now assigned the output to our query to a variable called `patient`. Let's use the `head` method to view the first few rows of our data."
      ]
    },
    {
      "metadata": {
        "id": "GZph0FPDASEs",
        "colab_type": "code",
        "colab": {
          "base_uri": "https://localhost:8080/",
          "height": 368
        },
        "outputId": "bd920d48-c45f-4031-df2b-4eb7635518e7"
      },
      "cell_type": "code",
      "source": [
        "# view the top few rows of the patient data\n",
        "patient.head()"
      ],
      "execution_count": 13,
      "outputs": [
        {
          "output_type": "execute_result",
          "data": {
            "text/html": [
              "<div>\n",
              "<style scoped>\n",
              "    .dataframe tbody tr th:only-of-type {\n",
              "        vertical-align: middle;\n",
              "    }\n",
              "\n",
              "    .dataframe tbody tr th {\n",
              "        vertical-align: top;\n",
              "    }\n",
              "\n",
              "    .dataframe thead th {\n",
              "        text-align: right;\n",
              "    }\n",
              "</style>\n",
              "<table border=\"1\" class=\"dataframe\">\n",
              "  <thead>\n",
              "    <tr style=\"text-align: right;\">\n",
              "      <th></th>\n",
              "      <th>patientunitstayid</th>\n",
              "      <th>patienthealthsystemstayid</th>\n",
              "      <th>gender</th>\n",
              "      <th>age</th>\n",
              "      <th>ethnicity</th>\n",
              "      <th>hospitalid</th>\n",
              "      <th>wardid</th>\n",
              "      <th>apacheadmissiondx</th>\n",
              "      <th>admissionheight</th>\n",
              "      <th>hospitaladmittime24</th>\n",
              "      <th>...</th>\n",
              "      <th>unitadmitsource</th>\n",
              "      <th>unitvisitnumber</th>\n",
              "      <th>unitstaytype</th>\n",
              "      <th>admissionweight</th>\n",
              "      <th>dischargeweight</th>\n",
              "      <th>unitdischargetime24</th>\n",
              "      <th>unitdischargeoffset</th>\n",
              "      <th>unitdischargelocation</th>\n",
              "      <th>unitdischargestatus</th>\n",
              "      <th>uniquepid</th>\n",
              "    </tr>\n",
              "  </thead>\n",
              "  <tbody>\n",
              "    <tr>\n",
              "      <th>0</th>\n",
              "      <td>210014</td>\n",
              "      <td>182373</td>\n",
              "      <td>Male</td>\n",
              "      <td>45</td>\n",
              "      <td>Caucasian</td>\n",
              "      <td>73</td>\n",
              "      <td>89</td>\n",
              "      <td>Hypertension, uncontrolled (for cerebrovascula...</td>\n",
              "      <td>178.0</td>\n",
              "      <td>13:08:59</td>\n",
              "      <td>...</td>\n",
              "      <td>Direct Admit</td>\n",
              "      <td>1</td>\n",
              "      <td>admit</td>\n",
              "      <td>116.0</td>\n",
              "      <td>112.7</td>\n",
              "      <td>15:00:00</td>\n",
              "      <td>4424</td>\n",
              "      <td>Skilled Nursing Facility</td>\n",
              "      <td>Alive</td>\n",
              "      <td>002-10665</td>\n",
              "    </tr>\n",
              "    <tr>\n",
              "      <th>1</th>\n",
              "      <td>200026</td>\n",
              "      <td>174624</td>\n",
              "      <td>Male</td>\n",
              "      <td>50</td>\n",
              "      <td>Caucasian</td>\n",
              "      <td>71</td>\n",
              "      <td>87</td>\n",
              "      <td>Ablation or mapping of cardiac conduction pathway</td>\n",
              "      <td>177.8</td>\n",
              "      <td>10:41:00</td>\n",
              "      <td>...</td>\n",
              "      <td>Operating Room</td>\n",
              "      <td>1</td>\n",
              "      <td>admit</td>\n",
              "      <td>106.1</td>\n",
              "      <td>106.1</td>\n",
              "      <td>17:40:00</td>\n",
              "      <td>1548</td>\n",
              "      <td>Home</td>\n",
              "      <td>Alive</td>\n",
              "      <td>002-10715</td>\n",
              "    </tr>\n",
              "    <tr>\n",
              "      <th>2</th>\n",
              "      <td>221131</td>\n",
              "      <td>190993</td>\n",
              "      <td>Male</td>\n",
              "      <td>83</td>\n",
              "      <td>Caucasian</td>\n",
              "      <td>71</td>\n",
              "      <td>87</td>\n",
              "      <td>Endarterectomy, carotid</td>\n",
              "      <td>175.3</td>\n",
              "      <td>21:43:00</td>\n",
              "      <td>...</td>\n",
              "      <td>Operating Room</td>\n",
              "      <td>1</td>\n",
              "      <td>admit</td>\n",
              "      <td>NaN</td>\n",
              "      <td>72.1</td>\n",
              "      <td>17:46:00</td>\n",
              "      <td>1203</td>\n",
              "      <td>Home</td>\n",
              "      <td>Alive</td>\n",
              "      <td>002-10249</td>\n",
              "    </tr>\n",
              "    <tr>\n",
              "      <th>3</th>\n",
              "      <td>221215</td>\n",
              "      <td>191054</td>\n",
              "      <td>Male</td>\n",
              "      <td>49</td>\n",
              "      <td>Caucasian</td>\n",
              "      <td>71</td>\n",
              "      <td>87</td>\n",
              "      <td>Infarction, acute myocardial (MI)</td>\n",
              "      <td>185.4</td>\n",
              "      <td>03:16:00</td>\n",
              "      <td>...</td>\n",
              "      <td>Emergency Department</td>\n",
              "      <td>1</td>\n",
              "      <td>admit</td>\n",
              "      <td>145.3</td>\n",
              "      <td>146.6</td>\n",
              "      <td>19:07:00</td>\n",
              "      <td>1562</td>\n",
              "      <td>Home</td>\n",
              "      <td>Alive</td>\n",
              "      <td>002-10627</td>\n",
              "    </tr>\n",
              "    <tr>\n",
              "      <th>4</th>\n",
              "      <td>217835</td>\n",
              "      <td>188445</td>\n",
              "      <td>Male</td>\n",
              "      <td>57</td>\n",
              "      <td>Caucasian</td>\n",
              "      <td>73</td>\n",
              "      <td>92</td>\n",
              "      <td>CABG alone, coronary artery bypass grafting</td>\n",
              "      <td>172.7</td>\n",
              "      <td>01:09:00</td>\n",
              "      <td>...</td>\n",
              "      <td>Operating Room</td>\n",
              "      <td>1</td>\n",
              "      <td>admit</td>\n",
              "      <td>NaN</td>\n",
              "      <td>80.4</td>\n",
              "      <td>08:25:00</td>\n",
              "      <td>4719</td>\n",
              "      <td>Floor</td>\n",
              "      <td>Alive</td>\n",
              "      <td>002-10324</td>\n",
              "    </tr>\n",
              "  </tbody>\n",
              "</table>\n",
              "<p>5 rows × 29 columns</p>\n",
              "</div>"
            ],
            "text/plain": [
              "   patientunitstayid  patienthealthsystemstayid gender age  ethnicity  \\\n",
              "0             210014                     182373   Male  45  Caucasian   \n",
              "1             200026                     174624   Male  50  Caucasian   \n",
              "2             221131                     190993   Male  83  Caucasian   \n",
              "3             221215                     191054   Male  49  Caucasian   \n",
              "4             217835                     188445   Male  57  Caucasian   \n",
              "\n",
              "   hospitalid  wardid                                  apacheadmissiondx  \\\n",
              "0          73      89  Hypertension, uncontrolled (for cerebrovascula...   \n",
              "1          71      87  Ablation or mapping of cardiac conduction pathway   \n",
              "2          71      87                            Endarterectomy, carotid   \n",
              "3          71      87                  Infarction, acute myocardial (MI)   \n",
              "4          73      92        CABG alone, coronary artery bypass grafting   \n",
              "\n",
              "   admissionheight hospitaladmittime24    ...           unitadmitsource  \\\n",
              "0            178.0            13:08:59    ...              Direct Admit   \n",
              "1            177.8            10:41:00    ...            Operating Room   \n",
              "2            175.3            21:43:00    ...            Operating Room   \n",
              "3            185.4            03:16:00    ...      Emergency Department   \n",
              "4            172.7            01:09:00    ...            Operating Room   \n",
              "\n",
              "  unitvisitnumber  unitstaytype admissionweight  dischargeweight  \\\n",
              "0               1         admit           116.0            112.7   \n",
              "1               1         admit           106.1            106.1   \n",
              "2               1         admit             NaN             72.1   \n",
              "3               1         admit           145.3            146.6   \n",
              "4               1         admit             NaN             80.4   \n",
              "\n",
              "  unitdischargetime24 unitdischargeoffset     unitdischargelocation  \\\n",
              "0            15:00:00                4424  Skilled Nursing Facility   \n",
              "1            17:40:00                1548                      Home   \n",
              "2            17:46:00                1203                      Home   \n",
              "3            19:07:00                1562                      Home   \n",
              "4            08:25:00                4719                     Floor   \n",
              "\n",
              "  unitdischargestatus  uniquepid  \n",
              "0               Alive  002-10665  \n",
              "1               Alive  002-10715  \n",
              "2               Alive  002-10249  \n",
              "3               Alive  002-10627  \n",
              "4               Alive  002-10324  \n",
              "\n",
              "[5 rows x 29 columns]"
            ]
          },
          "metadata": {
            "tags": []
          },
          "execution_count": 13
        }
      ]
    },
    {
      "metadata": {
        "id": "TlxaXLevC_Rz",
        "colab_type": "text"
      },
      "cell_type": "markdown",
      "source": [
        "## Questions\n",
        "\n",
        "- What does `patientunitstayid` represent? (hint, see: http://eicu-crd.mit.edu/eicutables/patient/)\n",
        "- What does `patienthealthsystemstayid` represent?\n",
        "- What does `uniquepid` represent?"
      ]
    },
    {
      "metadata": {
        "id": "2rLY0WyCBzp9",
        "colab_type": "code",
        "colab": {}
      },
      "cell_type": "code",
      "source": [
        "# select a limited number of columns to view\n",
        "columns = ['uniquepid', 'patientunitstayid','gender','age','unitdischargestatus']\n",
        "patient[columns].head()"
      ],
      "execution_count": 0,
      "outputs": []
    },
    {
      "metadata": {
        "id": "FSdS2hS4EWtb",
        "colab_type": "text"
      },
      "cell_type": "markdown",
      "source": [
        "- Try running the following query, which lists unique values in the age column. What do you notice?"
      ]
    },
    {
      "metadata": {
        "id": "0Aom69ftDxBN",
        "colab_type": "code",
        "colab": {}
      },
      "cell_type": "code",
      "source": [
        "# what are the unique values for age?\n",
        "age_col = 'age'\n",
        "patient[age_col].sort_values().unique()"
      ],
      "execution_count": 0,
      "outputs": []
    },
    {
      "metadata": {
        "id": "Y_qJL94jE0k8",
        "colab_type": "text"
      },
      "cell_type": "markdown",
      "source": [
        "- Try plotting a histogram of ages using the command in the cell below. What happens? Why?"
      ]
    },
    {
      "metadata": {
        "id": "1zad3Gr4D4LE",
        "colab_type": "code",
        "colab": {}
      },
      "cell_type": "code",
      "source": [
        "# try plotting a histogram of ages\n",
        "patient[age_col].plot(kind='hist', bins=15)"
      ],
      "execution_count": 0,
      "outputs": []
    },
    {
      "metadata": {
        "id": "xIdwVEEPF25H",
        "colab_type": "text"
      },
      "cell_type": "markdown",
      "source": [
        "Let's create a new column named `age_num`, then try again."
      ]
    },
    {
      "metadata": {
        "id": "-rwc-28oFF6R",
        "colab_type": "code",
        "colab": {}
      },
      "cell_type": "code",
      "source": [
        "# create a column containing numerical ages\n",
        "# If ‘coerce’, then invalid parsing will be set as NaN\n",
        "agenum_col = 'age_num'\n",
        "patient[agenum_col] = pd.to_numeric(patient[age_col], errors='coerce')\n",
        "patient[agenum_col].sort_values().unique()"
      ],
      "execution_count": 0,
      "outputs": []
    },
    {
      "metadata": {
        "id": "uTFMqqWqFMjG",
        "colab_type": "code",
        "colab": {}
      },
      "cell_type": "code",
      "source": [
        "patient[agenum_col].plot(kind='hist', bins=15)"
      ],
      "execution_count": 0,
      "outputs": []
    },
    {
      "metadata": {
        "id": "FrbR8rV3GlR1",
        "colab_type": "text"
      },
      "cell_type": "markdown",
      "source": [
        "## Questions\n",
        "\n",
        "- Use the `mean()` method to find the average age. Why do we expect this to be lower than the true mean?\n",
        "- In the same way that you use `mean()`, you can use `describe()`, `max()`, and `min()`. Look at the admission heights (`admissionheight`) of patients in cm. What issue do you see? How can you deal with this issue?"
      ]
    },
    {
      "metadata": {
        "id": "TPps13DZG6Ac",
        "colab_type": "code",
        "colab": {}
      },
      "cell_type": "code",
      "source": [
        "adheight_col = 'admissionheight'\n",
        "patient[adheight_col].describe()"
      ],
      "execution_count": 0,
      "outputs": []
    },
    {
      "metadata": {
        "id": "9jhV9xQoGRJq",
        "colab_type": "code",
        "colab": {}
      },
      "cell_type": "code",
      "source": [
        "# set threshold\n",
        "adheight_col = 'admissionheight'\n",
        "patient[patient[adheight_col] < 10] = None"
      ],
      "execution_count": 0,
      "outputs": []
    }
  ]
}