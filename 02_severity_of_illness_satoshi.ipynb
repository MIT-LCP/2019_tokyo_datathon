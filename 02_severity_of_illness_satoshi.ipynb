{
 "cells": [
  {
   "cell_type": "markdown",
   "metadata": {
    "colab_type": "text",
    "id": "view-in-github"
   },
   "source": [
    "<a href=\"https://colab.research.google.com/github/MIT-LCP/2019_tokyo_datathon/blob/master/02_severity_of_illness.ipynb\" target=\"_parent\"><img src=\"https://colab.research.google.com/assets/colab-badge.svg\" alt=\"Open In Colab\"/></a>"
   ]
  },
  {
   "cell_type": "markdown",
   "metadata": {
    "colab_type": "text",
    "id": "y4AOVdliM8gm"
   },
   "source": [
    "# eICU Collaborative Research Database\n",
    "\n",
    "# Notebook 2: Severity of illness\n",
    "\n",
    "This notebook introduces high level admission details relating to a single patient stay, using the following tables:\n",
    "\n",
    "ここでは、以下のテーブルを用いて患者のより詳細な入院情報を抽出します。\n",
    "\n",
    "- patient\n",
    "- admissiondx\n",
    "- apacheapsvar\n",
    "- apachepredvar\n",
    "- apachepatientresult\n",
    "\n"
   ]
  },
  {
   "cell_type": "markdown",
   "metadata": {
    "colab_type": "text",
    "id": "e0lUnIkYOyv4"
   },
   "source": [
    "## Load libraries and connect to the database\n",
    "\n",
    "Notebook 1と同様、必要なlibraryとデータベースへのアクセスを行ってください。"
   ]
  },
  {
   "cell_type": "code",
   "execution_count": null,
   "metadata": {
    "colab": {},
    "colab_type": "code",
    "id": "SJ6l1i3fOL4j"
   },
   "outputs": [],
   "source": [
    "# Import libraries\n",
    "import numpy as np\n",
    "import os\n",
    "import pandas as pd\n",
    "import matplotlib.pyplot as plt\n",
    "import matplotlib.patches as patches\n",
    "import matplotlib.path as path\n",
    "\n",
    "# Make pandas dataframes prettier\n",
    "from IPython.display import display, HTML\n",
    "\n",
    "# Access data using Google BigQuery.\n",
    "from google.colab import auth\n",
    "from google.cloud import bigquery"
   ]
  },
  {
   "cell_type": "code",
   "execution_count": null,
   "metadata": {
    "colab": {},
    "colab_type": "code",
    "id": "TE4JYS8aO-69"
   },
   "outputs": [],
   "source": [
    "# authenticate\n",
    "auth.authenticate_user()"
   ]
  },
  {
   "cell_type": "code",
   "execution_count": null,
   "metadata": {
    "colab": {},
    "colab_type": "code",
    "id": "oVavf-ujPOAv"
   },
   "outputs": [],
   "source": [
    "# Set up environment variables\n",
    "project_id='datathonjapan2019'\n",
    "os.environ[\"GOOGLE_CLOUD_PROJECT\"]=project_id"
   ]
  },
  {
   "cell_type": "markdown",
   "metadata": {
    "colab_type": "text",
    "id": "OEuFlzpIT3rT"
   },
   "source": [
    "To make our lives easier, we'll also install and import a set of helper functions from the `datathon2` package.\n",
    "\n"
   ]
  },
  {
   "cell_type": "code",
   "execution_count": null,
   "metadata": {
    "colab": {},
    "colab_type": "code",
    "id": "aBc7PA0KSIFM"
   },
   "outputs": [],
   "source": [
    "!pip install datathon2"
   ]
  },
  {
   "cell_type": "code",
   "execution_count": null,
   "metadata": {
    "colab": {},
    "colab_type": "code",
    "id": "k2wcZtxVUHJy"
   },
   "outputs": [],
   "source": [
    "import datathon2 as dtn"
   ]
  },
  {
   "cell_type": "markdown",
   "metadata": {
    "colab_type": "text",
    "id": "a1CAI3GjQYE0"
   },
   "source": [
    "## Selecting a single patient stay¶\n",
    "\n",
    "As we have seen, the patient table includes general information about the patient admissions (for example, demographics, admission and discharge details). See: http://eicu-crd.mit.edu/eicutables/patient/\n",
    "\n",
    "まずは、`patient`テーブルからのqueryを行ってみます。\n",
    "\n",
    "## Questions\n",
    "\n",
    "Use your knowledge from the previous notebook and the online documentation (http://eicu-crd.mit.edu/) to answer the following questions:\n",
    "\n",
    "- Which column in the patient table is distinct for each stay in the ICU (similar to `icustay_id` in MIMIC-III)?\n",
    "- Which column is unique for each patient (similar to `subject_id` in MIMIC-III)?\n",
    "\n",
    "注：MIMIC-IIIでは、患者一人一人が異なるIDを持っていますが（`subject_id`）、同人物が複数回ICUに入室した場合それぞれ異なる`icustay_id`が割り振られます。"
   ]
  },
  {
   "cell_type": "code",
   "execution_count": null,
   "metadata": {
    "colab": {},
    "colab_type": "code",
    "id": "R6huFICkSQAd"
   },
   "outputs": [],
   "source": [
    "# view distinct ids\n",
    "query = \"\"\"\n",
    "SELECT DISTINCT(patientunitstayid)\n",
    "FROM `physionet-data.eicu_crd_demo.patient`\n",
    "\"\"\"\n",
    "\n",
    "dtn.run_query(query,project_id)"
   ]
  },
  {
   "cell_type": "code",
   "execution_count": null,
   "metadata": {
    "colab": {},
    "colab_type": "code",
    "id": "lfeQwFlvRly7"
   },
   "outputs": [],
   "source": [
    "# select a single ICU stay（適当に一つIDを選んでください）\n",
    "patientunitstayid = <your_id_here>"
   ]
  },
  {
   "cell_type": "code",
   "execution_count": null,
   "metadata": {
    "colab": {},
    "colab_type": "code",
    "id": "yEBIFRBqRo4y"
   },
   "outputs": [],
   "source": [
    "# set the where clause to select the stay of interest\n",
    "query = \"\"\"\n",
    "SELECT *\n",
    "FROM `physionet-data.eicu_crd_demo.patient`\n",
    "WHERE patientunitstayid = {}\n",
    "\"\"\".format(patientunitstayid)\n",
    "\n",
    "patient = dtn.run_query(query,project_id)"
   ]
  },
  {
   "cell_type": "code",
   "execution_count": null,
   "metadata": {
    "colab": {},
    "colab_type": "code",
    "id": "LjIL2XR6TAyp"
   },
   "outputs": [],
   "source": [
    "patient"
   ]
  },
  {
   "cell_type": "markdown",
   "metadata": {
    "colab_type": "text",
    "id": "QSbKYqF0TQ1n"
   },
   "source": [
    "## Questions\n",
    "\n",
    "- Which type of unit was the patient admitted to? Hint: Try `patient['unittype']` or `patient.unittype`（どこへ入室したか）\n",
    "- What year was the patient discharged from the ICU? Hint: You can view the table columns with `patient.columns`（いつ退室したか）\n",
    "- What was the status of the patient upon discharge from the unit?（退室時の状態は？）"
   ]
  },
  {
   "cell_type": "markdown",
   "metadata": {
    "colab_type": "text",
    "id": "izaH0XwwUxDD"
   },
   "source": [
    "## The admissiondx table\n",
    "\n",
    "The `admissiondx` table contains the primary diagnosis for admission to the ICU according to the APACHE scoring criteria. For more detail, see: http://eicu-crd.mit.edu/eicutables/admissiondx/\n",
    "\n",
    "`admissiondx`テーブルからは、ICU入室時の診断に関する情報が抽出できます。"
   ]
  },
  {
   "cell_type": "code",
   "execution_count": null,
   "metadata": {
    "colab": {},
    "colab_type": "code",
    "id": "dlj3UCDTTEjj"
   },
   "outputs": [],
   "source": [
    "# set the where clause to select the stay of interest\n",
    "# `WHERE`で条件の絞り込み。\n",
    "query = \"\"\"\n",
    "SELECT *\n",
    "FROM `physionet-data.eicu_crd_demo.admissiondx`\n",
    "WHERE patientunitstayid = {}\n",
    "\"\"\".format(patientunitstayid)\n",
    "\n",
    "admissiondx = dtn.run_query(query,project_id)"
   ]
  },
  {
   "cell_type": "code",
   "execution_count": null,
   "metadata": {
    "colab": {},
    "colab_type": "code",
    "id": "3wdEHFLJVMKm"
   },
   "outputs": [],
   "source": [
    "# View the columns in this data\n",
    "admissiondx.columns"
   ]
  },
  {
   "cell_type": "code",
   "execution_count": null,
   "metadata": {
    "colab": {},
    "colab_type": "code",
    "id": "tbOA44lAVNLr"
   },
   "outputs": [],
   "source": [
    "# View the data\n",
    "admissiondx.head()"
   ]
  },
  {
   "cell_type": "code",
   "execution_count": null,
   "metadata": {
    "colab": {},
    "colab_type": "code",
    "id": "Hc0y4ueOVWOk"
   },
   "outputs": [],
   "source": [
    "# Set the display options to avoid truncating the text\n",
    "# `admitdxpath`の表示方法を変えます。\n",
    "pd.set_option('display.max_colwidth', -1)\n",
    "admissiondx.admitdxpath"
   ]
  },
  {
   "cell_type": "markdown",
   "metadata": {
    "colab_type": "text",
    "id": "mSb_BrgvWDdD"
   },
   "source": [
    "## Questions\n",
    "\n",
    "- What was the primary reason for admission?（入室理由は？）\n",
    "- How soon after admission to the ICU was the diagnoses recorded in eCareManager? Hint: The `offset` columns indicate the time in minutes after admission to the ICU. （入室後いつ診断されたか？）"
   ]
  },
  {
   "cell_type": "markdown",
   "metadata": {
    "colab_type": "text",
    "id": "rd3Tw6_kWwlS"
   },
   "source": [
    "## The apacheapsvar table\n",
    "\n",
    "The apacheapsvar table contains the variables used to calculate the Acute Physiology Score (APS) III for patients. APS-III is an established method of summarizing patient severity of illness on admission to the ICU, taking the \"worst\" observations for a patient in a 24 hour period.\n",
    "\n",
    "次に、APS-III（重症度スコア）に関するデータを抽出するため、`apacheapsvar`テーブルを参照します。\n",
    "\n",
    "The score is part of the Acute Physiology Age Chronic Health Evaluation (APACHE) system of equations for predicting outcomes for ICU patients. See: http://eicu-crd.mit.edu/eicutables/apacheApsVar/"
   ]
  },
  {
   "cell_type": "code",
   "execution_count": null,
   "metadata": {
    "colab": {},
    "colab_type": "code",
    "id": "fXOzR5XWVdNa"
   },
   "outputs": [],
   "source": [
    "# set the where clause to select the stay of interest\n",
    "query = \"\"\"\n",
    "SELECT *\n",
    "FROM `physionet-data.eicu_crd_demo.apacheapsvar`\n",
    "WHERE patientunitstayid = {}\n",
    "\"\"\".format(patientunitstayid)\n",
    "\n",
    "apacheapsvar = dtn.run_query(query,project_id)"
   ]
  },
  {
   "cell_type": "code",
   "execution_count": null,
   "metadata": {
    "colab": {},
    "colab_type": "code",
    "id": "mL_lVORdXDIg"
   },
   "outputs": [],
   "source": [
    "apacheapsvar.head()"
   ]
  },
  {
   "cell_type": "markdown",
   "metadata": {
    "colab_type": "text",
    "id": "8x_Z8q4jXH7D"
   },
   "source": [
    "## Questions\n",
    "\n",
    "- What was the 'worst' heart rate recorded for the patient during the scoring period?（重症度スコアリング中の`最悪`の心拍数は？）\n",
    "- Was the patient oriented and able to converse normally on the day of admission? (hint: the verbal element refers to the Glasgow Coma Scale).（見当識障害は？）"
   ]
  },
  {
   "cell_type": "markdown",
   "metadata": {
    "colab_type": "text",
    "id": "XplJvhIYX432"
   },
   "source": [
    "# apachepredvar table\n",
    "\n",
    "The apachepredvar table provides variables underlying the APACHE predictions. Acute Physiology Age Chronic Health Evaluation (APACHE) consists of a groups of equations used for predicting outcomes in critically ill patients. See: http://eicu-crd.mit.edu/eicutables/apachePredVar/\n",
    "\n",
    "このテーブルは、APACHEスコアについての元情報も含んでいます。"
   ]
  },
  {
   "cell_type": "code",
   "execution_count": null,
   "metadata": {
    "colab": {},
    "colab_type": "code",
    "id": "iAIFESy9XFhC"
   },
   "outputs": [],
   "source": [
    "# set the where clause to select the stay of interest\n",
    "query = \"\"\"\n",
    "SELECT *\n",
    "FROM `physionet-data.eicu_crd_demo.apachepredvar`\n",
    "WHERE patientunitstayid = {}\n",
    "\"\"\".format(patientunitstayid)\n",
    "\n",
    "apachepredvar = dtn.run_query(query,project_id)"
   ]
  },
  {
   "cell_type": "code",
   "execution_count": null,
   "metadata": {
    "colab": {},
    "colab_type": "code",
    "id": "LAu7G72cYEY1"
   },
   "outputs": [],
   "source": [
    "apachepredvar.columns"
   ]
  },
  {
   "cell_type": "markdown",
   "metadata": {
    "colab_type": "text",
    "id": "IEaS6L9OY0vJ"
   },
   "source": [
    "## Questions\n",
    "\n",
    "- Was the patient ventilated during (APACHE) day 1 of their stay?（APACHEスコアリング1日目の機械換気？）\n",
    "- Is the patient recorded as having diabetes?（糖尿病の既往？）"
   ]
  },
  {
   "cell_type": "markdown",
   "metadata": {
    "colab_type": "text",
    "id": "nrTEkjxqZD2l"
   },
   "source": [
    "# `apachepatientresult` table\n",
    "\n",
    "The `apachepatientresult` table provides predictions made by the APACHE score (versions IV and IVa), including probability of mortality, length of stay, and ventilation days. See: http://eicu-crd.mit.edu/eicutables/apachePatientResult/\n",
    "\n",
    "`apachepatientresult`テーブルでは、APACHEスコアを用いた死亡率やICU滞在日数、挿管日数に関する予測値をみることができます。"
   ]
  },
  {
   "cell_type": "code",
   "execution_count": null,
   "metadata": {
    "colab": {},
    "colab_type": "code",
    "id": "M2RCJNBgZOJ2"
   },
   "outputs": [],
   "source": [
    "# set the where clause to select the stay of interest\n",
    "query = \"\"\"\n",
    "SELECT *\n",
    "FROM `physionet-data.eicu_crd_demo.apachepatientresult`\n",
    "WHERE patientunitstayid = {}\n",
    "\"\"\".format(patientunitstayid)\n",
    "\n",
    "apachepatientresult = dtn.run_query(query,project_id)"
   ]
  },
  {
   "cell_type": "code",
   "execution_count": null,
   "metadata": {
    "colab": {},
    "colab_type": "code",
    "id": "4whVaOP1Za8f"
   },
   "outputs": [],
   "source": [
    "apachepatientresult"
   ]
  },
  {
   "cell_type": "markdown",
   "metadata": {
    "colab_type": "text",
    "id": "5YO_GQcNZUWR"
   },
   "source": [
    "## Questions\n",
    "\n",
    "- What versions of the APACHE score are computed?（APACHEスコアのバージョンは？）\n",
    "- How many days during the stay was the patient ventilated?（挿管日数は？）\n",
    "- How long was the patient predicted to stay in hospital?（病院滞在日数は？）\n",
    "- Was this prediction close to the truth?（正確性？）"
   ]
  },
  {
   "cell_type": "code",
   "execution_count": null,
   "metadata": {},
   "outputs": [],
   "source": []
  }
 ],
 "metadata": {
  "colab": {
   "collapsed_sections": [],
   "include_colab_link": true,
   "name": "02-severity-of-illness",
   "provenance": [],
   "version": "0.3.2"
  },
  "kernelspec": {
   "display_name": "Python 3",
   "language": "python",
   "name": "python3"
  },
  "language_info": {
   "codemirror_mode": {
    "name": "ipython",
    "version": 3
   },
   "file_extension": ".py",
   "mimetype": "text/x-python",
   "name": "python",
   "nbconvert_exporter": "python",
   "pygments_lexer": "ipython3",
   "version": "3.6.5"
  }
 },
 "nbformat": 4,
 "nbformat_minor": 1
}
